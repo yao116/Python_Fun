{
 "cells": [
  {
   "cell_type": "code",
   "execution_count": 2,
   "metadata": {},
   "outputs": [],
   "source": [
    "#Tutorial:https://www.bilibili.com/video/BV1EJ411P7Dp\n",
    "\n",
    "import urllib.request\n",
    "import gzip"
   ]
  },
  {
   "cell_type": "markdown",
   "metadata": {},
   "source": [
    "#### Step1: 生成查询天气的Url"
   ]
  },
  {
   "cell_type": "code",
   "execution_count": 5,
   "metadata": {},
   "outputs": [
    {
     "data": {
      "text/plain": [
       "'%E8%8B%8F%E5%B7%9E'"
      ]
     },
     "execution_count": 5,
     "metadata": {},
     "output_type": "execute_result"
    }
   ],
   "source": [
    "city=\"苏州\"\n",
    "urllib.parse.quote(city) # 将城市名编码成utf-8字符"
   ]
  },
  {
   "cell_type": "code",
   "execution_count": 7,
   "metadata": {},
   "outputs": [
    {
     "data": {
      "text/plain": [
       "'http://wthrcdn.etouch.cn/weather_mini?city=%E8%8B%8F%E5%B7%9E'"
      ]
     },
     "execution_count": 7,
     "metadata": {},
     "output_type": "execute_result"
    }
   ],
   "source": [
    "url = 'http://wthrcdn.etouch.cn/weather_mini?city='+urllib.parse.quote(city) #拼接url\n",
    "url"
   ]
  },
  {
   "cell_type": "markdown",
   "metadata": {},
   "source": [
    "#### Step2: 访问url，解析服务器返回的json数据，变成python的字典数据"
   ]
  },
  {
   "cell_type": "code",
   "execution_count": 8,
   "metadata": {},
   "outputs": [],
   "source": [
    "weather = urllib.request.urlopen(url).read()"
   ]
  },
  {
   "cell_type": "code",
   "execution_count": 9,
   "metadata": {},
   "outputs": [
    {
     "data": {
      "text/plain": [
       "b'\\x1f\\x8b\\x08\\x00\\x00\\x00\\x00\\x00\\x00\\x00\\xb5\\xd3\\xcfK\\xc2`\\x18\\x07\\xf0\\x7f\\xa5\\xde\\xf3\\x82m&\\xc5\\x88@\\xea\\xd6\\xa1K7\\xf10\\xdc\\xb2\\x81\\xcdp\\x13\\x15\\x11\\xc4\\xd4%-\\xc7*\\xd2R\\x94\\xfcAH\\x17\\x0fB2\\xf2\\x9f)\\xdf\\xe9N\\xfd\\x0b\\xbd/\\x86sm\\x06\\x1e\\xba\\xed\\xfd>\\xcfx>\\xef\\x1e\\x96\\x01\\x1c+\\xb3\\x80\\xc9\\x804/\\xc9|\\x9cc\\xd3\\xf8\\x80B\\x1e0\\x80&\\xcdj\\xcf\\xac\\xb5\\xccF\\x0b=\\x00\\x02\\x9c\\t\\x913\\x94[\\xaf5s\\xd4\\xdf\\xd8\\xfd(\\\\\\xa2\\xf04\\x85\"\\xa8V\\xadN\\x05\\x9d\\xa2\\xb1$:N\\xc6\\x15\\xdc\\xb1E\\xfd\\xb4DQ\\xb6\\xb7\\x19<8\\x0c\\x9c\\x04\\x82\\xf4\\xd4x\\t\\x85\\xf6Q.\\xa7/\\xf0\\x1c\\xf3q\\x08\\xb2\\x04\\x08\\x0b2\\x9a\\x0ef\\xd7\\x1a|k\\xe2\\xb7bq>\\xccJ2`\\x826\\x89Z\\x90&\\xa3\\xdcJ\\x12/F\\xa2\\xc2\\xf2Lj1\\xd3\\x01$\\xed\\xfe\\x94\\xc0\\x8a\\x11\\\\\\x195\\xe67q\\xe0l\\x00m\\x03\\x0c\\xd5\\x05\\xa0\\xa8U\\x02\\xda[\\xe0\\xf7\\x14\\xc0\\x9b\\xea\\x9f\\x08\\xdf\\xd2W(\\xaf\\x81\\xf0y#v\\xdc\\x88\\xdf\\x02\\xab\\xe6\\x14l/\\x04\\xb0^w\\x0b\\xe85\\x05>\\x0f\\x81\\xea\\x14\\xc0\\xee\\xd3\\xc4\\xd0\\x1d\\x08\\xff\\xd2.\\xee\\xffk\\x17\\xeeE\\x84\\x08\\x10a\\xc5s6\\x86\\x83B\\x0b\\x96n\\x91\\rj:r|\\xbd\\xabV.\\x0f\\xc7wP\\xd1\\xe0@\\x87\\xdd\\x07\\xa8\\x18V[\\x9fV\\x94y\\xc9R\\xb4\\xd9s\\x0f\\x16\\x8b\\xe6`\\x08\\xafJv\\x7f\\xbb\\tq\\xa93-\\xf7?sy41\\xc9\\x8b\\\\\\x02M \\xf1\\xbf!\\xc9\\xac\\x9c\\x90\\x00C\\x91$I\\x00\\x8e\\x97\\xc2\\xa8r|\\x04\\xb2\\xdf\\xcdd\\x86D\\xc2\\x03\\x00\\x00'"
      ]
     },
     "execution_count": 9,
     "metadata": {},
     "output_type": "execute_result"
    }
   ],
   "source": [
    "# 访问url链接，获取字串数据\n",
    "weather"
   ]
  },
  {
   "cell_type": "code",
   "execution_count": 11,
   "metadata": {},
   "outputs": [
    {
     "data": {
      "text/plain": [
       "b'{\"data\":{\"yesterday\":{\"date\":\"20\\xe6\\x97\\xa5\\xe6\\x98\\x9f\\xe6\\x9c\\x9f\\xe6\\x97\\xa5\",\"high\":\"\\xe9\\xab\\x98\\xe6\\xb8\\xa9 8\\xe2\\x84\\x83\",\"fx\":\"\\xe5\\x8c\\x97\\xe9\\xa3\\x8e\",\"low\":\"\\xe4\\xbd\\x8e\\xe6\\xb8\\xa9 -1\\xe2\\x84\\x83\",\"fl\":\"<![CDATA[2\\xe7\\xba\\xa7]]>\",\"type\":\"\\xe6\\x99\\xb4\"},\"city\":\"\\xe8\\x8b\\x8f\\xe5\\xb7\\x9e\",\"forecast\":[{\"date\":\"21\\xe6\\x97\\xa5\\xe6\\x98\\x9f\\xe6\\x9c\\x9f\\xe4\\xb8\\x80\",\"high\":\"\\xe9\\xab\\x98\\xe6\\xb8\\xa9 8\\xe2\\x84\\x83\",\"fengli\":\"<![CDATA[1\\xe7\\xba\\xa7]]>\",\"low\":\"\\xe4\\xbd\\x8e\\xe6\\xb8\\xa9 0\\xe2\\x84\\x83\",\"fengxiang\":\"\\xe4\\xb8\\x9c\\xe9\\xa3\\x8e\",\"type\":\"\\xe6\\x99\\xb4\"},{\"date\":\"22\\xe6\\x97\\xa5\\xe6\\x98\\x9f\\xe6\\x9c\\x9f\\xe4\\xba\\x8c\",\"high\":\"\\xe9\\xab\\x98\\xe6\\xb8\\xa9 11\\xe2\\x84\\x83\",\"fengli\":\"<![CDATA[2\\xe7\\xba\\xa7]]>\",\"low\":\"\\xe4\\xbd\\x8e\\xe6\\xb8\\xa9 5\\xe2\\x84\\x83\",\"fengxiang\":\"\\xe4\\xb8\\x9c\\xe5\\x8d\\x97\\xe9\\xa3\\x8e\",\"type\":\"\\xe6\\x99\\xb4\"},{\"date\":\"23\\xe6\\x97\\xa5\\xe6\\x98\\x9f\\xe6\\x9c\\x9f\\xe4\\xb8\\x89\",\"high\":\"\\xe9\\xab\\x98\\xe6\\xb8\\xa9 11\\xe2\\x84\\x83\",\"fengli\":\"<![CDATA[3\\xe7\\xba\\xa7]]>\",\"low\":\"\\xe4\\xbd\\x8e\\xe6\\xb8\\xa9 7\\xe2\\x84\\x83\",\"fengxiang\":\"\\xe5\\x8d\\x97\\xe9\\xa3\\x8e\",\"type\":\"\\xe9\\x98\\xb4\"},{\"date\":\"24\\xe6\\x97\\xa5\\xe6\\x98\\x9f\\xe6\\x9c\\x9f\\xe5\\x9b\\x9b\",\"high\":\"\\xe9\\xab\\x98\\xe6\\xb8\\xa9 12\\xe2\\x84\\x83\",\"fengli\":\"<![CDATA[3\\xe7\\xba\\xa7]]>\",\"low\":\"\\xe4\\xbd\\x8e\\xe6\\xb8\\xa9 3\\xe2\\x84\\x83\",\"fengxiang\":\"\\xe5\\x8c\\x97\\xe9\\xa3\\x8e\",\"type\":\"\\xe5\\xa4\\x9a\\xe4\\xba\\x91\"},{\"date\":\"25\\xe6\\x97\\xa5\\xe6\\x98\\x9f\\xe6\\x9c\\x9f\\xe4\\xba\\x94\",\"high\":\"\\xe9\\xab\\x98\\xe6\\xb8\\xa9 11\\xe2\\x84\\x83\",\"fengli\":\"<![CDATA[2\\xe7\\xba\\xa7]]>\",\"low\":\"\\xe4\\xbd\\x8e\\xe6\\xb8\\xa9 5\\xe2\\x84\\x83\",\"fengxiang\":\"\\xe4\\xb8\\x9c\\xe9\\xa3\\x8e\",\"type\":\"\\xe6\\x99\\xb4\"}],\"ganmao\":\"\\xe6\\x84\\x9f\\xe5\\x86\\x92\\xe5\\xa4\\x9a\\xe5\\x8f\\x91\\xe6\\x9c\\x9f\\xef\\xbc\\x8c\\xe9\\x80\\x82\\xe5\\xbd\\x93\\xe5\\x87\\x8f\\xe5\\xb0\\x91\\xe5\\xa4\\x96\\xe5\\x87\\xba\\xe9\\xa2\\x91\\xe7\\x8e\\x87\\xef\\xbc\\x8c\\xe9\\x80\\x82\\xe9\\x87\\x8f\\xe8\\xa1\\xa5\\xe5\\x85\\x85\\xe6\\xb0\\xb4\\xe5\\x88\\x86\\xef\\xbc\\x8c\\xe9\\x80\\x82\\xe5\\xbd\\x93\\xe5\\xa2\\x9e\\xe5\\x87\\x8f\\xe8\\xa1\\xa3\\xe7\\x89\\xa9\\xe3\\x80\\x82\",\"wendu\":\"0\"},\"status\":1000,\"desc\":\"OK\"}'"
      ]
     },
     "execution_count": 11,
     "metadata": {},
     "output_type": "execute_result"
    }
   ],
   "source": [
    "#将字节串解码为unicode编码\n",
    "weather=gzip.decompress(weather)\n",
    "weather"
   ]
  },
  {
   "cell_type": "code",
   "execution_count": 12,
   "metadata": {},
   "outputs": [
    {
     "data": {
      "text/plain": [
       "'{\"data\":{\"yesterday\":{\"date\":\"20日星期日\",\"high\":\"高温 8℃\",\"fx\":\"北风\",\"low\":\"低温 -1℃\",\"fl\":\"<![CDATA[2级]]>\",\"type\":\"晴\"},\"city\":\"苏州\",\"forecast\":[{\"date\":\"21日星期一\",\"high\":\"高温 8℃\",\"fengli\":\"<![CDATA[1级]]>\",\"low\":\"低温 0℃\",\"fengxiang\":\"东风\",\"type\":\"晴\"},{\"date\":\"22日星期二\",\"high\":\"高温 11℃\",\"fengli\":\"<![CDATA[2级]]>\",\"low\":\"低温 5℃\",\"fengxiang\":\"东南风\",\"type\":\"晴\"},{\"date\":\"23日星期三\",\"high\":\"高温 11℃\",\"fengli\":\"<![CDATA[3级]]>\",\"low\":\"低温 7℃\",\"fengxiang\":\"南风\",\"type\":\"阴\"},{\"date\":\"24日星期四\",\"high\":\"高温 12℃\",\"fengli\":\"<![CDATA[3级]]>\",\"low\":\"低温 3℃\",\"fengxiang\":\"北风\",\"type\":\"多云\"},{\"date\":\"25日星期五\",\"high\":\"高温 11℃\",\"fengli\":\"<![CDATA[2级]]>\",\"low\":\"低温 5℃\",\"fengxiang\":\"东风\",\"type\":\"晴\"}],\"ganmao\":\"感冒多发期，适当减少外出频率，适量补充水分，适当增减衣物。\",\"wendu\":\"0\"},\"status\":1000,\"desc\":\"OK\"}'"
      ]
     },
     "execution_count": 12,
     "metadata": {},
     "output_type": "execute_result"
    }
   ],
   "source": [
    "# 将unicode编码解码为utf-8编码，显示中文\n",
    "weather=weather.decode('utf-8')\n",
    "weather"
   ]
  },
  {
   "cell_type": "markdown",
   "metadata": {},
   "source": [
    "http://json.cn/ JSON 在线解析"
   ]
  },
  {
   "cell_type": "code",
   "execution_count": 14,
   "metadata": {
    "scrolled": true
   },
   "outputs": [
    {
     "data": {
      "text/plain": [
       "{'data': {'yesterday': {'date': '20日星期日',\n",
       "   'high': '高温 8℃',\n",
       "   'fx': '北风',\n",
       "   'low': '低温 -1℃',\n",
       "   'fl': '<![CDATA[2级]]>',\n",
       "   'type': '晴'},\n",
       "  'city': '苏州',\n",
       "  'forecast': [{'date': '21日星期一',\n",
       "    'high': '高温 8℃',\n",
       "    'fengli': '<![CDATA[1级]]>',\n",
       "    'low': '低温 0℃',\n",
       "    'fengxiang': '东风',\n",
       "    'type': '晴'},\n",
       "   {'date': '22日星期二',\n",
       "    'high': '高温 11℃',\n",
       "    'fengli': '<![CDATA[2级]]>',\n",
       "    'low': '低温 5℃',\n",
       "    'fengxiang': '东南风',\n",
       "    'type': '晴'},\n",
       "   {'date': '23日星期三',\n",
       "    'high': '高温 11℃',\n",
       "    'fengli': '<![CDATA[3级]]>',\n",
       "    'low': '低温 7℃',\n",
       "    'fengxiang': '南风',\n",
       "    'type': '阴'},\n",
       "   {'date': '24日星期四',\n",
       "    'high': '高温 12℃',\n",
       "    'fengli': '<![CDATA[3级]]>',\n",
       "    'low': '低温 3℃',\n",
       "    'fengxiang': '北风',\n",
       "    'type': '多云'},\n",
       "   {'date': '25日星期五',\n",
       "    'high': '高温 11℃',\n",
       "    'fengli': '<![CDATA[2级]]>',\n",
       "    'low': '低温 5℃',\n",
       "    'fengxiang': '东风',\n",
       "    'type': '晴'}],\n",
       "  'ganmao': '感冒多发期，适当减少外出频率，适量补充水分，适当增减衣物。',\n",
       "  'wendu': '0'},\n",
       " 'status': 1000,\n",
       " 'desc': 'OK'}"
      ]
     },
     "execution_count": 14,
     "metadata": {},
     "output_type": "execute_result"
    }
   ],
   "source": [
    "# 将字符串两端的引号去掉，变成python中的字典数据\n",
    "weather_dict = eval(weather)\n",
    "weather_dict"
   ]
  },
  {
   "cell_type": "markdown",
   "metadata": {},
   "source": [
    "#### Step3: 对字典进行所有，获取气温、风速、风向等天气信息"
   ]
  },
  {
   "cell_type": "code",
   "execution_count": 15,
   "metadata": {},
   "outputs": [
    {
     "data": {
      "text/plain": [
       "{'date': '20日星期日',\n",
       " 'high': '高温 8℃',\n",
       " 'fx': '北风',\n",
       " 'low': '低温 -1℃',\n",
       " 'fl': '<![CDATA[2级]]>',\n",
       " 'type': '晴'}"
      ]
     },
     "execution_count": 15,
     "metadata": {},
     "output_type": "execute_result"
    }
   ],
   "source": [
    "weather_dict['data']['yesterday']"
   ]
  },
  {
   "cell_type": "code",
   "execution_count": 26,
   "metadata": {},
   "outputs": [
    {
     "name": "stdout",
     "output_type": "stream",
     "text": [
      "您查询的城市： 苏州\n",
      "----------------------------\n",
      "今日天气\n",
      "温度： 0\n",
      "感冒指数： 感冒多发期，适当减少外出频率，适量补充水分，适当增减衣物。\n",
      "----------------------------\n",
      "昨日天气\n",
      "昨天： 20日星期日\n",
      "天气： 晴\n",
      "最高温度： 高温 8℃\n",
      "最低温度： 低温 -1℃\n",
      "风向： 北风\n",
      "风力： 2级\n",
      "----------------------------\n"
     ]
    }
   ],
   "source": [
    "print('您查询的城市：',weather_dict['data']['city'])\n",
    "print('----------------------------')\n",
    "print('今日天气')\n",
    "print('温度：',weather_dict['data']['wendu'])\n",
    "print('感冒指数：',weather_dict['data']['ganmao'])\n",
    "print('----------------------------')\n",
    "print('昨日天气')\n",
    "print('昨天：',weather_dict['data']['yesterday']['date'])\n",
    "print('天气：',weather_dict['data']['yesterday']['type'])\n",
    "print('最高温度：',weather_dict['data']['yesterday']['high'])\n",
    "print('最低温度：',weather_dict['data']['yesterday']['low'])\n",
    "print('风向：',weather_dict['data']['yesterday']['fx'])\n",
    "print('风力：',weather_dict['data']['yesterday']['fl'][-5:-3])\n",
    "print('----------------------------')"
   ]
  },
  {
   "cell_type": "markdown",
   "metadata": {},
   "source": [
    "#### Step4: 遍历forecast列表中的五个元素，打印天气信息"
   ]
  },
  {
   "cell_type": "code",
   "execution_count": 22,
   "metadata": {},
   "outputs": [
    {
     "data": {
      "text/plain": [
       "[{'date': '21日星期一',\n",
       "  'high': '高温 8℃',\n",
       "  'fengli': '<![CDATA[1级]]>',\n",
       "  'low': '低温 0℃',\n",
       "  'fengxiang': '东风',\n",
       "  'type': '晴'},\n",
       " {'date': '22日星期二',\n",
       "  'high': '高温 11℃',\n",
       "  'fengli': '<![CDATA[2级]]>',\n",
       "  'low': '低温 5℃',\n",
       "  'fengxiang': '东南风',\n",
       "  'type': '晴'},\n",
       " {'date': '23日星期三',\n",
       "  'high': '高温 11℃',\n",
       "  'fengli': '<![CDATA[3级]]>',\n",
       "  'low': '低温 7℃',\n",
       "  'fengxiang': '南风',\n",
       "  'type': '阴'},\n",
       " {'date': '24日星期四',\n",
       "  'high': '高温 12℃',\n",
       "  'fengli': '<![CDATA[3级]]>',\n",
       "  'low': '低温 3℃',\n",
       "  'fengxiang': '北风',\n",
       "  'type': '多云'},\n",
       " {'date': '25日星期五',\n",
       "  'high': '高温 11℃',\n",
       "  'fengli': '<![CDATA[2级]]>',\n",
       "  'low': '低温 5℃',\n",
       "  'fengxiang': '东风',\n",
       "  'type': '晴'}]"
      ]
     },
     "execution_count": 22,
     "metadata": {},
     "output_type": "execute_result"
    }
   ],
   "source": [
    "weather_dict['data']['forecast']"
   ]
  },
  {
   "cell_type": "code",
   "execution_count": 27,
   "metadata": {},
   "outputs": [
    {
     "name": "stdout",
     "output_type": "stream",
     "text": [
      "日期 21日星期一\n",
      "天气 晴\n",
      "日期 21日星期一\n",
      "高温 8℃\n",
      "低温 0℃\n",
      "风向 东风\n",
      "风力 1级\n",
      "----------------------------\n",
      "日期 22日星期二\n",
      "天气 晴\n",
      "日期 22日星期二\n",
      "高温 11℃\n",
      "低温 5℃\n",
      "风向 东南风\n",
      "风力 2级\n",
      "----------------------------\n",
      "日期 23日星期三\n",
      "天气 阴\n",
      "日期 23日星期三\n",
      "高温 11℃\n",
      "低温 7℃\n",
      "风向 南风\n",
      "风力 3级\n",
      "----------------------------\n",
      "日期 24日星期四\n",
      "天气 多云\n",
      "日期 24日星期四\n",
      "高温 12℃\n",
      "低温 3℃\n",
      "风向 北风\n",
      "风力 3级\n",
      "----------------------------\n",
      "日期 25日星期五\n",
      "天气 晴\n",
      "日期 25日星期五\n",
      "高温 11℃\n",
      "低温 5℃\n",
      "风向 东风\n",
      "风力 2级\n",
      "----------------------------\n"
     ]
    }
   ],
   "source": [
    "for each in weather_dict['data']['forecast']:\n",
    "    print('日期',each['date'])\n",
    "    print('天气',each['type'])\n",
    "    print('日期',each['date'])\n",
    "    print(each['high'])\n",
    "    print(each['low'])\n",
    "    print('风向',each['fengxiang'])\n",
    "    print('风力',each['fengli'][-5:-3])\n",
    "    print('----------------------------')"
   ]
  },
  {
   "cell_type": "markdown",
   "metadata": {},
   "source": [
    "### Combine All"
   ]
  },
  {
   "cell_type": "code",
   "execution_count": 29,
   "metadata": {},
   "outputs": [
    {
     "name": "stdout",
     "output_type": "stream",
     "text": [
      "请输入需要查询的城市名：广州\n",
      "您查询的城市： 广州\n",
      "----------------------------\n",
      "【今日天气】\n",
      "温度： 9\n",
      "感冒指数： 感冒低发期，天气舒适，请注意多吃蔬菜水果，多喝水哦。\n",
      "----------------------------\n",
      "【昨日天气】\n",
      "昨天： 20日星期日\n",
      "天气： 多云\n",
      "最高温度： 高温 16℃\n",
      "最低温度： 低温 10℃\n",
      "风向： 北风\n",
      "风力： 4级\n",
      "----------------------------\n",
      "【天气预告】\n",
      "日期 21日星期一\n",
      "天气 多云\n",
      "日期 21日星期一\n",
      "高温 17℃\n",
      "低温 9℃\n",
      "风向 北风\n",
      "风力 3级\n",
      "----------------------------\n",
      "日期 22日星期二\n",
      "天气 多云\n",
      "日期 22日星期二\n",
      "高温 19℃\n",
      "低温 13℃\n",
      "风向 北风\n",
      "风力 2级\n",
      "----------------------------\n",
      "日期 23日星期三\n",
      "天气 阴\n",
      "日期 23日星期三\n",
      "高温 16℃\n",
      "低温 13℃\n",
      "风向 北风\n",
      "风力 2级\n",
      "----------------------------\n",
      "日期 24日星期四\n",
      "天气 阴\n",
      "日期 24日星期四\n",
      "高温 17℃\n",
      "低温 12℃\n",
      "风向 北风\n",
      "风力 3级\n",
      "----------------------------\n",
      "日期 25日星期五\n",
      "天气 多云\n",
      "日期 25日星期五\n",
      "高温 17℃\n",
      "低温 13℃\n",
      "风向 北风\n",
      "风力 2级\n",
      "----------------------------\n"
     ]
    }
   ],
   "source": [
    "import urllib.request\n",
    "import gzip\n",
    "\n",
    "city = input('请输入需要查询的城市名：')\n",
    "url = 'http://wthrcdn.etouch.cn/weather_mini?city='+urllib.parse.quote(city)\n",
    "\n",
    "weather = urllib.request.urlopen(url).read()\n",
    "weather=gzip.decompress(weather)\n",
    "weather=weather.decode('utf-8')\n",
    "weather_dict = eval(weather)\n",
    "if weather_dict.get('desc')=='invilad-citykey':\n",
    "    print('该城市信息未收录')\n",
    "    \n",
    "    \n",
    "print('您查询的城市：',weather_dict['data']['city'])\n",
    "print('----------------------------')\n",
    "print('【今日天气】')\n",
    "print('温度：',weather_dict['data']['wendu'])\n",
    "print('感冒指数：',weather_dict['data']['ganmao'])\n",
    "print('----------------------------')\n",
    "print('【昨日天气】')\n",
    "print('昨天：',weather_dict['data']['yesterday']['date'])\n",
    "print('天气：',weather_dict['data']['yesterday']['type'])\n",
    "print('最高温度：',weather_dict['data']['yesterday']['high'])\n",
    "print('最低温度：',weather_dict['data']['yesterday']['low'])\n",
    "print('风向：',weather_dict['data']['yesterday']['fx'])\n",
    "print('风力：',weather_dict['data']['yesterday']['fl'][-5:-3])\n",
    "print('----------------------------')\n",
    "print('【天气预告】')    \n",
    "for each in weather_dict['data']['forecast']:\n",
    "    print('日期',each['date'])\n",
    "    print('天气',each['type'])\n",
    "    print('日期',each['date'])\n",
    "    print(each['high'])\n",
    "    print(each['low'])\n",
    "    print('风向',each['fengxiang'])\n",
    "    print('风力',each['fengli'][-5:-3])\n",
    "    print('----------------------------')"
   ]
  }
 ],
 "metadata": {
  "kernelspec": {
   "display_name": "Python 3",
   "language": "python",
   "name": "python3"
  },
  "language_info": {
   "codemirror_mode": {
    "name": "ipython",
    "version": 3
   },
   "file_extension": ".py",
   "mimetype": "text/x-python",
   "name": "python",
   "nbconvert_exporter": "python",
   "pygments_lexer": "ipython3",
   "version": "3.7.9"
  }
 },
 "nbformat": 4,
 "nbformat_minor": 4
}
